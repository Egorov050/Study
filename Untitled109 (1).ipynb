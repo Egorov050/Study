{
 "cells": [
  {
   "cell_type": "code",
   "execution_count": 1,
   "id": "bab01d7a-1882-442f-80fd-7cb2db828eee",
   "metadata": {},
   "outputs": [
    {
     "name": "stderr",
     "output_type": "stream",
     "text": [
      "/var/folders/t9/p_t5rsf92s38bb58_mfpk3rm0000gn/T/ipykernel_74917/2643198428.py:1: DeprecationWarning: \n",
      "Pyarrow will become a required dependency of pandas in the next major release of pandas (pandas 3.0),\n",
      "(to allow more performant data types, such as the Arrow string type, and better interoperability with other libraries)\n",
      "but was not found to be installed on your system.\n",
      "If this would cause problems for you,\n",
      "please provide us feedback at https://github.com/pandas-dev/pandas/issues/54466\n",
      "        \n",
      "  import pandas as pd\n"
     ]
    }
   ],
   "source": [
    "import pandas as pd\n",
    "from sklearn.preprocessing import LabelEncoder\n",
    "import seaborn as sns"
   ]
  },
  {
   "cell_type": "code",
   "execution_count": 2,
   "id": "5a9e85fd-30a3-48b3-8b23-c6cf38499297",
   "metadata": {},
   "outputs": [],
   "source": [
    "df = pd.read_csv('/Users/vladimiregorov/Downloads/data (1).csv')"
   ]
  },
  {
   "cell_type": "code",
   "execution_count": 3,
   "id": "517c98d0-a203-40a0-851d-17cedd31bcd6",
   "metadata": {},
   "outputs": [
    {
     "data": {
      "text/html": [
       "<div>\n",
       "<style scoped>\n",
       "    .dataframe tbody tr th:only-of-type {\n",
       "        vertical-align: middle;\n",
       "    }\n",
       "\n",
       "    .dataframe tbody tr th {\n",
       "        vertical-align: top;\n",
       "    }\n",
       "\n",
       "    .dataframe thead th {\n",
       "        text-align: right;\n",
       "    }\n",
       "</style>\n",
       "<table border=\"1\" class=\"dataframe\">\n",
       "  <thead>\n",
       "    <tr style=\"text-align: right;\">\n",
       "      <th></th>\n",
       "      <th>Account ID</th>\n",
       "      <th>Username</th>\n",
       "      <th>Platform</th>\n",
       "      <th>Follower Count</th>\n",
       "      <th>Posts Per Week</th>\n",
       "      <th>Engagement Rate</th>\n",
       "      <th>Ad Spend (USD)</th>\n",
       "      <th>Conversion Rate</th>\n",
       "      <th>Campaign Reach</th>\n",
       "    </tr>\n",
       "  </thead>\n",
       "  <tbody>\n",
       "    <tr>\n",
       "      <th>0</th>\n",
       "      <td>1</td>\n",
       "      <td>harrislisa</td>\n",
       "      <td>TikTok</td>\n",
       "      <td>54217</td>\n",
       "      <td>3</td>\n",
       "      <td>0.0986</td>\n",
       "      <td>538.10</td>\n",
       "      <td>0.0490</td>\n",
       "      <td>1308</td>\n",
       "    </tr>\n",
       "    <tr>\n",
       "      <th>1</th>\n",
       "      <td>2</td>\n",
       "      <td>rhicks</td>\n",
       "      <td>LinkedIn</td>\n",
       "      <td>987518</td>\n",
       "      <td>5</td>\n",
       "      <td>0.0834</td>\n",
       "      <td>479.24</td>\n",
       "      <td>0.0174</td>\n",
       "      <td>13302</td>\n",
       "    </tr>\n",
       "    <tr>\n",
       "      <th>2</th>\n",
       "      <td>3</td>\n",
       "      <td>qthomas</td>\n",
       "      <td>Facebook</td>\n",
       "      <td>218870</td>\n",
       "      <td>3</td>\n",
       "      <td>0.1020</td>\n",
       "      <td>150.36</td>\n",
       "      <td>0.0318</td>\n",
       "      <td>11043</td>\n",
       "    </tr>\n",
       "  </tbody>\n",
       "</table>\n",
       "</div>"
      ],
      "text/plain": [
       "   Account ID    Username  Platform  Follower Count  Posts Per Week  \\\n",
       "0           1  harrislisa    TikTok           54217               3   \n",
       "1           2      rhicks  LinkedIn          987518               5   \n",
       "2           3     qthomas  Facebook          218870               3   \n",
       "\n",
       "   Engagement Rate  Ad Spend (USD)  Conversion Rate  Campaign Reach  \n",
       "0           0.0986          538.10           0.0490            1308  \n",
       "1           0.0834          479.24           0.0174           13302  \n",
       "2           0.1020          150.36           0.0318           11043  "
      ]
     },
     "execution_count": 3,
     "metadata": {},
     "output_type": "execute_result"
    }
   ],
   "source": [
    "df.head(3)"
   ]
  },
  {
   "cell_type": "code",
   "execution_count": 4,
   "id": "80a87292-e67a-48cf-a203-a38f702d684f",
   "metadata": {},
   "outputs": [
    {
     "data": {
      "text/plain": [
       "Account ID         0\n",
       "Username           0\n",
       "Platform           0\n",
       "Follower Count     0\n",
       "Posts Per Week     0\n",
       "Engagement Rate    0\n",
       "Ad Spend (USD)     0\n",
       "Conversion Rate    0\n",
       "Campaign Reach     0\n",
       "dtype: int64"
      ]
     },
     "execution_count": 4,
     "metadata": {},
     "output_type": "execute_result"
    }
   ],
   "source": [
    "df.isna().sum()"
   ]
  },
  {
   "cell_type": "code",
   "execution_count": 5,
   "id": "4eb61cc4-f37f-4492-8632-f8fd90d4ef0f",
   "metadata": {},
   "outputs": [
    {
     "data": {
      "text/plain": [
       "Account ID           int64\n",
       "Username            object\n",
       "Platform            object\n",
       "Follower Count       int64\n",
       "Posts Per Week       int64\n",
       "Engagement Rate    float64\n",
       "Ad Spend (USD)     float64\n",
       "Conversion Rate    float64\n",
       "Campaign Reach       int64\n",
       "dtype: object"
      ]
     },
     "execution_count": 5,
     "metadata": {},
     "output_type": "execute_result"
    }
   ],
   "source": [
    "df.dtypes"
   ]
  },
  {
   "cell_type": "code",
   "execution_count": 7,
   "id": "cc1fbc71-bd00-4ff3-adf2-85972f8eb06d",
   "metadata": {},
   "outputs": [
    {
     "data": {
      "text/html": [
       "<div>\n",
       "<style scoped>\n",
       "    .dataframe tbody tr th:only-of-type {\n",
       "        vertical-align: middle;\n",
       "    }\n",
       "\n",
       "    .dataframe tbody tr th {\n",
       "        vertical-align: top;\n",
       "    }\n",
       "\n",
       "    .dataframe thead th {\n",
       "        text-align: right;\n",
       "    }\n",
       "</style>\n",
       "<table border=\"1\" class=\"dataframe\">\n",
       "  <thead>\n",
       "    <tr style=\"text-align: right;\">\n",
       "      <th></th>\n",
       "      <th>Account ID</th>\n",
       "      <th>Username</th>\n",
       "      <th>Platform</th>\n",
       "      <th>Follower Count</th>\n",
       "      <th>Posts Per Week</th>\n",
       "      <th>Engagement Rate</th>\n",
       "      <th>Ad Spend (USD)</th>\n",
       "      <th>Conversion Rate</th>\n",
       "      <th>Campaign Reach</th>\n",
       "    </tr>\n",
       "  </thead>\n",
       "  <tbody>\n",
       "    <tr>\n",
       "      <th>0</th>\n",
       "      <td>1</td>\n",
       "      <td>harrislisa</td>\n",
       "      <td>TikTok</td>\n",
       "      <td>54217</td>\n",
       "      <td>3</td>\n",
       "      <td>0.0986</td>\n",
       "      <td>538.10</td>\n",
       "      <td>0.0490</td>\n",
       "      <td>1308</td>\n",
       "    </tr>\n",
       "    <tr>\n",
       "      <th>1</th>\n",
       "      <td>2</td>\n",
       "      <td>rhicks</td>\n",
       "      <td>LinkedIn</td>\n",
       "      <td>987518</td>\n",
       "      <td>5</td>\n",
       "      <td>0.0834</td>\n",
       "      <td>479.24</td>\n",
       "      <td>0.0174</td>\n",
       "      <td>13302</td>\n",
       "    </tr>\n",
       "  </tbody>\n",
       "</table>\n",
       "</div>"
      ],
      "text/plain": [
       "   Account ID    Username  Platform  Follower Count  Posts Per Week  \\\n",
       "0           1  harrislisa    TikTok           54217               3   \n",
       "1           2      rhicks  LinkedIn          987518               5   \n",
       "\n",
       "   Engagement Rate  Ad Spend (USD)  Conversion Rate  Campaign Reach  \n",
       "0           0.0986          538.10           0.0490            1308  \n",
       "1           0.0834          479.24           0.0174           13302  "
      ]
     },
     "execution_count": 7,
     "metadata": {},
     "output_type": "execute_result"
    }
   ],
   "source": [
    "df.head(2)"
   ]
  },
  {
   "cell_type": "markdown",
   "id": "359f12c9-2ece-44fb-a718-17b09ef403f7",
   "metadata": {},
   "source": [
    "### Task_1 "
   ]
  },
  {
   "cell_type": "code",
   "execution_count": 8,
   "id": "7a2b1dee-298f-46ed-8738-de0740c68655",
   "metadata": {},
   "outputs": [
    {
     "data": {
      "text/plain": [
       "array(['TikTok', 'LinkedIn', 'Facebook', 'Instagram', 'Twitter'],\n",
       "      dtype=object)"
      ]
     },
     "execution_count": 8,
     "metadata": {},
     "output_type": "execute_result"
    }
   ],
   "source": [
    "df['Platform'].unique()"
   ]
  },
  {
   "cell_type": "code",
   "execution_count": 9,
   "id": "2eb9c509-2a28-485c-943b-5749d13229a4",
   "metadata": {},
   "outputs": [],
   "source": [
    "df['Platform_Code'] = pd.factorize(df['Platform'])[0]"
   ]
  },
  {
   "cell_type": "code",
   "execution_count": 10,
   "id": "faddbdcf-9f32-438b-982f-3dd13e1ee13c",
   "metadata": {},
   "outputs": [
    {
     "data": {
      "text/plain": [
       "Platform_Code\n",
       "1    2017\n",
       "2    2016\n",
       "4    2002\n",
       "3    1997\n",
       "0    1968\n",
       "Name: count, dtype: int64"
      ]
     },
     "execution_count": 10,
     "metadata": {},
     "output_type": "execute_result"
    }
   ],
   "source": [
    "df['Platform_Code'].value_counts()"
   ]
  },
  {
   "cell_type": "code",
   "execution_count": 11,
   "id": "e88f08d0-bc2f-4322-9b52-08083aa60aa1",
   "metadata": {},
   "outputs": [
    {
     "data": {
      "text/plain": [
       "Platform\n",
       "LinkedIn     2017\n",
       "Facebook     2016\n",
       "Twitter      2002\n",
       "Instagram    1997\n",
       "TikTok       1968\n",
       "Name: count, dtype: int64"
      ]
     },
     "execution_count": 11,
     "metadata": {},
     "output_type": "execute_result"
    }
   ],
   "source": [
    "df['Platform'].value_counts()"
   ]
  },
  {
   "cell_type": "code",
   "execution_count": 12,
   "id": "b0af4815-46c9-4318-a284-f87ebc76310c",
   "metadata": {},
   "outputs": [
    {
     "data": {
      "text/html": [
       "<div>\n",
       "<style scoped>\n",
       "    .dataframe tbody tr th:only-of-type {\n",
       "        vertical-align: middle;\n",
       "    }\n",
       "\n",
       "    .dataframe tbody tr th {\n",
       "        vertical-align: top;\n",
       "    }\n",
       "\n",
       "    .dataframe thead th {\n",
       "        text-align: right;\n",
       "    }\n",
       "</style>\n",
       "<table border=\"1\" class=\"dataframe\">\n",
       "  <thead>\n",
       "    <tr style=\"text-align: right;\">\n",
       "      <th></th>\n",
       "      <th>Account ID</th>\n",
       "      <th>Follower Count</th>\n",
       "      <th>Posts Per Week</th>\n",
       "      <th>Engagement Rate</th>\n",
       "      <th>Ad Spend (USD)</th>\n",
       "      <th>Conversion Rate</th>\n",
       "      <th>Campaign Reach</th>\n",
       "      <th>Platform_Code</th>\n",
       "    </tr>\n",
       "  </thead>\n",
       "  <tbody>\n",
       "    <tr>\n",
       "      <th>Account ID</th>\n",
       "      <td>1.000000</td>\n",
       "      <td>0.002866</td>\n",
       "      <td>-0.003058</td>\n",
       "      <td>0.000611</td>\n",
       "      <td>-0.004928</td>\n",
       "      <td>0.005095</td>\n",
       "      <td>-0.006896</td>\n",
       "      <td>-0.005208</td>\n",
       "    </tr>\n",
       "    <tr>\n",
       "      <th>Follower Count</th>\n",
       "      <td>0.002866</td>\n",
       "      <td>1.000000</td>\n",
       "      <td>-0.004853</td>\n",
       "      <td>-0.016428</td>\n",
       "      <td>-0.004516</td>\n",
       "      <td>0.014002</td>\n",
       "      <td>-0.020816</td>\n",
       "      <td>0.010304</td>\n",
       "    </tr>\n",
       "    <tr>\n",
       "      <th>Posts Per Week</th>\n",
       "      <td>-0.003058</td>\n",
       "      <td>-0.004853</td>\n",
       "      <td>1.000000</td>\n",
       "      <td>0.016908</td>\n",
       "      <td>-0.001298</td>\n",
       "      <td>-0.011176</td>\n",
       "      <td>0.003364</td>\n",
       "      <td>-0.011840</td>\n",
       "    </tr>\n",
       "    <tr>\n",
       "      <th>Engagement Rate</th>\n",
       "      <td>0.000611</td>\n",
       "      <td>-0.016428</td>\n",
       "      <td>0.016908</td>\n",
       "      <td>1.000000</td>\n",
       "      <td>0.007712</td>\n",
       "      <td>-0.006964</td>\n",
       "      <td>0.013299</td>\n",
       "      <td>0.031382</td>\n",
       "    </tr>\n",
       "    <tr>\n",
       "      <th>Ad Spend (USD)</th>\n",
       "      <td>-0.004928</td>\n",
       "      <td>-0.004516</td>\n",
       "      <td>-0.001298</td>\n",
       "      <td>0.007712</td>\n",
       "      <td>1.000000</td>\n",
       "      <td>0.011723</td>\n",
       "      <td>0.011008</td>\n",
       "      <td>-0.014922</td>\n",
       "    </tr>\n",
       "    <tr>\n",
       "      <th>Conversion Rate</th>\n",
       "      <td>0.005095</td>\n",
       "      <td>0.014002</td>\n",
       "      <td>-0.011176</td>\n",
       "      <td>-0.006964</td>\n",
       "      <td>0.011723</td>\n",
       "      <td>1.000000</td>\n",
       "      <td>-0.008647</td>\n",
       "      <td>0.007528</td>\n",
       "    </tr>\n",
       "    <tr>\n",
       "      <th>Campaign Reach</th>\n",
       "      <td>-0.006896</td>\n",
       "      <td>-0.020816</td>\n",
       "      <td>0.003364</td>\n",
       "      <td>0.013299</td>\n",
       "      <td>0.011008</td>\n",
       "      <td>-0.008647</td>\n",
       "      <td>1.000000</td>\n",
       "      <td>0.012024</td>\n",
       "    </tr>\n",
       "    <tr>\n",
       "      <th>Platform_Code</th>\n",
       "      <td>-0.005208</td>\n",
       "      <td>0.010304</td>\n",
       "      <td>-0.011840</td>\n",
       "      <td>0.031382</td>\n",
       "      <td>-0.014922</td>\n",
       "      <td>0.007528</td>\n",
       "      <td>0.012024</td>\n",
       "      <td>1.000000</td>\n",
       "    </tr>\n",
       "  </tbody>\n",
       "</table>\n",
       "</div>"
      ],
      "text/plain": [
       "                 Account ID  Follower Count  Posts Per Week  Engagement Rate  \\\n",
       "Account ID         1.000000        0.002866       -0.003058         0.000611   \n",
       "Follower Count     0.002866        1.000000       -0.004853        -0.016428   \n",
       "Posts Per Week    -0.003058       -0.004853        1.000000         0.016908   \n",
       "Engagement Rate    0.000611       -0.016428        0.016908         1.000000   \n",
       "Ad Spend (USD)    -0.004928       -0.004516       -0.001298         0.007712   \n",
       "Conversion Rate    0.005095        0.014002       -0.011176        -0.006964   \n",
       "Campaign Reach    -0.006896       -0.020816        0.003364         0.013299   \n",
       "Platform_Code     -0.005208        0.010304       -0.011840         0.031382   \n",
       "\n",
       "                 Ad Spend (USD)  Conversion Rate  Campaign Reach  \\\n",
       "Account ID            -0.004928         0.005095       -0.006896   \n",
       "Follower Count        -0.004516         0.014002       -0.020816   \n",
       "Posts Per Week        -0.001298        -0.011176        0.003364   \n",
       "Engagement Rate        0.007712        -0.006964        0.013299   \n",
       "Ad Spend (USD)         1.000000         0.011723        0.011008   \n",
       "Conversion Rate        0.011723         1.000000       -0.008647   \n",
       "Campaign Reach         0.011008        -0.008647        1.000000   \n",
       "Platform_Code         -0.014922         0.007528        0.012024   \n",
       "\n",
       "                 Platform_Code  \n",
       "Account ID           -0.005208  \n",
       "Follower Count        0.010304  \n",
       "Posts Per Week       -0.011840  \n",
       "Engagement Rate       0.031382  \n",
       "Ad Spend (USD)       -0.014922  \n",
       "Conversion Rate       0.007528  \n",
       "Campaign Reach        0.012024  \n",
       "Platform_Code         1.000000  "
      ]
     },
     "execution_count": 12,
     "metadata": {},
     "output_type": "execute_result"
    }
   ],
   "source": [
    "df.corr(numeric_only = True, method='spearman')"
   ]
  },
  {
   "cell_type": "markdown",
   "id": "5e4cfd98-67fc-4768-ad98-e84257507179",
   "metadata": {},
   "source": [
    "The answer is 0.031382"
   ]
  },
  {
   "cell_type": "markdown",
   "id": "88d12bf3-36b8-4a2d-8c0a-7d0abb5ee6f9",
   "metadata": {},
   "source": [
    "### Task 2"
   ]
  },
  {
   "cell_type": "code",
   "execution_count": 13,
   "id": "612bf3a7-74ea-4844-a021-3e3bf2b61aee",
   "metadata": {},
   "outputs": [
    {
     "data": {
      "text/plain": [
       "<Axes: >"
      ]
     },
     "execution_count": 13,
     "metadata": {},
     "output_type": "execute_result"
    },
    {
     "data": {
      "image/png": "[encoded data removed]",
      "text/plain": [
       "<Figure size 640x480 with 1 Axes>"
      ]
     },
     "metadata": {},
     "output_type": "display_data"
    }
   ],
   "source": [
    "df['Follower Count'].hist()"
   ]
  },
  {
   "cell_type": "code",
   "execution_count": 14,
   "id": "b8747230-0399-46ec-b0ba-382be8fbb18d",
   "metadata": {},
   "outputs": [],
   "source": [
    "df['Follower_Bin'] = pd.qcut(df['Follower Count'],q=4,labels=[\"Low\", \"Medium\", \"High\", \"Very High\"])"
   ]
  },
  {
   "cell_type": "code",
   "execution_count": 15,
   "id": "92f91ecf-e30e-4909-982f-700f8a4fbac9",
   "metadata": {},
   "outputs": [
    {
     "name": "stderr",
     "output_type": "stream",
     "text": [
      "/var/folders/t9/p_t5rsf92s38bb58_mfpk3rm0000gn/T/ipykernel_74917/1762247458.py:1: FutureWarning: The default of observed=False is deprecated and will be changed to True in a future version of pandas. Pass observed=False to retain current behavior or observed=True to adopt the future default and silence this warning.\n",
      "  result=df.groupby('Follower_Bin').agg({'Engagement Rate' : 'mean'}).reset_index()\n"
     ]
    },
    {
     "data": {
      "text/html": [
       "<div>\n",
       "<style scoped>\n",
       "    .dataframe tbody tr th:only-of-type {\n",
       "        vertical-align: middle;\n",
       "    }\n",
       "\n",
       "    .dataframe tbody tr th {\n",
       "        vertical-align: top;\n",
       "    }\n",
       "\n",
       "    .dataframe thead th {\n",
       "        text-align: right;\n",
       "    }\n",
       "</style>\n",
       "<table border=\"1\" class=\"dataframe\">\n",
       "  <thead>\n",
       "    <tr style=\"text-align: right;\">\n",
       "      <th></th>\n",
       "      <th>Follower_Bin</th>\n",
       "      <th>Engagement Rate</th>\n",
       "    </tr>\n",
       "  </thead>\n",
       "  <tbody>\n",
       "    <tr>\n",
       "      <th>2</th>\n",
       "      <td>High</td>\n",
       "      <td>0.08655</td>\n",
       "    </tr>\n",
       "  </tbody>\n",
       "</table>\n",
       "</div>"
      ],
      "text/plain": [
       "  Follower_Bin  Engagement Rate\n",
       "2         High          0.08655"
      ]
     },
     "execution_count": 15,
     "metadata": {},
     "output_type": "execute_result"
    }
   ],
   "source": [
    "result=df.groupby('Follower_Bin').agg({'Engagement Rate' : 'mean'}).reset_index()\n",
    "result[result['Follower_Bin'] == 'High']"
   ]
  },
  {
   "cell_type": "markdown",
   "id": "eac92c31-b980-434b-9f0a-90252d4a2aab",
   "metadata": {},
   "source": [
    "The answer is 0.08655"
   ]
  },
  {
   "cell_type": "markdown",
   "id": "72adf1b0-98ed-442c-9942-d62afac76537",
   "metadata": {},
   "source": [
    "### Task 3"
   ]
  },
  {
   "cell_type": "code",
   "execution_count": 16,
   "id": "f0d1b9ae-e144-4762-bd40-b13b236c6eda",
   "metadata": {},
   "outputs": [],
   "source": [
    "melted_df = df.melt(id_vars=['Platform'],value_vars=['Follower Count','Posts Per Week','Ad Spend (USD)','Conversion Rate','Engagement Rate','Campaign Reach'],var_name='Metric',value_name='Value')"
   ]
  },
  {
   "cell_type": "code",
   "execution_count": 17,
   "id": "c25aaf34-54dd-4bf9-bc4f-586d754ff731",
   "metadata": {},
   "outputs": [
    {
     "data": {
      "text/html": [
       "<div>\n",
       "<style scoped>\n",
       "    .dataframe tbody tr th:only-of-type {\n",
       "        vertical-align: middle;\n",
       "    }\n",
       "\n",
       "    .dataframe tbody tr th {\n",
       "        vertical-align: top;\n",
       "    }\n",
       "\n",
       "    .dataframe thead th {\n",
       "        text-align: right;\n",
       "    }\n",
       "</style>\n",
       "<table border=\"1\" class=\"dataframe\">\n",
       "  <thead>\n",
       "    <tr style=\"text-align: right;\">\n",
       "      <th></th>\n",
       "      <th>Platform</th>\n",
       "      <th>Metric</th>\n",
       "      <th>Value</th>\n",
       "    </tr>\n",
       "  </thead>\n",
       "  <tbody>\n",
       "    <tr>\n",
       "      <th>0</th>\n",
       "      <td>TikTok</td>\n",
       "      <td>Follower Count</td>\n",
       "      <td>54217.0</td>\n",
       "    </tr>\n",
       "    <tr>\n",
       "      <th>1</th>\n",
       "      <td>LinkedIn</td>\n",
       "      <td>Follower Count</td>\n",
       "      <td>987518.0</td>\n",
       "    </tr>\n",
       "    <tr>\n",
       "      <th>2</th>\n",
       "      <td>Facebook</td>\n",
       "      <td>Follower Count</td>\n",
       "      <td>218870.0</td>\n",
       "    </tr>\n",
       "    <tr>\n",
       "      <th>3</th>\n",
       "      <td>Instagram</td>\n",
       "      <td>Follower Count</td>\n",
       "      <td>207432.0</td>\n",
       "    </tr>\n",
       "    <tr>\n",
       "      <th>4</th>\n",
       "      <td>Facebook</td>\n",
       "      <td>Follower Count</td>\n",
       "      <td>350204.0</td>\n",
       "    </tr>\n",
       "    <tr>\n",
       "      <th>...</th>\n",
       "      <td>...</td>\n",
       "      <td>...</td>\n",
       "      <td>...</td>\n",
       "    </tr>\n",
       "    <tr>\n",
       "      <th>59995</th>\n",
       "      <td>TikTok</td>\n",
       "      <td>Campaign Reach</td>\n",
       "      <td>45091.0</td>\n",
       "    </tr>\n",
       "    <tr>\n",
       "      <th>59996</th>\n",
       "      <td>TikTok</td>\n",
       "      <td>Campaign Reach</td>\n",
       "      <td>33084.0</td>\n",
       "    </tr>\n",
       "    <tr>\n",
       "      <th>59997</th>\n",
       "      <td>Twitter</td>\n",
       "      <td>Campaign Reach</td>\n",
       "      <td>12484.0</td>\n",
       "    </tr>\n",
       "    <tr>\n",
       "      <th>59998</th>\n",
       "      <td>LinkedIn</td>\n",
       "      <td>Campaign Reach</td>\n",
       "      <td>35766.0</td>\n",
       "    </tr>\n",
       "    <tr>\n",
       "      <th>59999</th>\n",
       "      <td>Facebook</td>\n",
       "      <td>Campaign Reach</td>\n",
       "      <td>13012.0</td>\n",
       "    </tr>\n",
       "  </tbody>\n",
       "</table>\n",
       "<p>60000 rows × 3 columns</p>\n",
       "</div>"
      ],
      "text/plain": [
       "        Platform          Metric     Value\n",
       "0         TikTok  Follower Count   54217.0\n",
       "1       LinkedIn  Follower Count  987518.0\n",
       "2       Facebook  Follower Count  218870.0\n",
       "3      Instagram  Follower Count  207432.0\n",
       "4       Facebook  Follower Count  350204.0\n",
       "...          ...             ...       ...\n",
       "59995     TikTok  Campaign Reach   45091.0\n",
       "59996     TikTok  Campaign Reach   33084.0\n",
       "59997    Twitter  Campaign Reach   12484.0\n",
       "59998   LinkedIn  Campaign Reach   35766.0\n",
       "59999   Facebook  Campaign Reach   13012.0\n",
       "\n",
       "[60000 rows x 3 columns]"
      ]
     },
     "execution_count": 17,
     "metadata": {},
     "output_type": "execute_result"
    }
   ],
   "source": [
    "melted_df"
   ]
  },
  {
   "cell_type": "code",
   "execution_count": 18,
   "id": "68e6feaf-56cc-4312-9e09-6b304681fb4c",
   "metadata": {},
   "outputs": [
    {
     "data": {
      "text/plain": [
       "Platform    FacebookFacebookFacebookFacebookFacebookFacebo...\n",
       "Metric      Ad Spend (USD)Campaign ReachConversion RateEng...\n",
       "Value                                            3100285.4716\n",
       "dtype: object"
      ]
     },
     "execution_count": 18,
     "metadata": {},
     "output_type": "execute_result"
    }
   ],
   "source": [
    "melted_df.groupby(['Platform', 'Metric']).apply(lambda x : x.mode().max()).reset_index().sum()"
   ]
  },
  {
   "cell_type": "markdown",
   "id": "e0a3238c-866b-42ba-95d3-458da254488a",
   "metadata": {},
   "source": [
    "The answer is  3100285.4716"
   ]
  },
  {
   "cell_type": "markdown",
   "id": "462b9a34-7c2d-411c-8546-cb2be75bfe27",
   "metadata": {},
   "source": [
    "### Task 4"
   ]
  },
  {
   "cell_type": "code",
   "execution_count": 19,
   "id": "58cc3a43-ae51-411b-adfe-4d891624428f",
   "metadata": {},
   "outputs": [
    {
     "name": "stderr",
     "output_type": "stream",
     "text": [
      "/var/folders/t9/p_t5rsf92s38bb58_mfpk3rm0000gn/T/ipykernel_74917/2830159733.py:1: DeprecationWarning: DataFrameGroupBy.apply operated on the grouping columns. This behavior is deprecated, and in a future version of pandas the grouping columns will be excluded from the operation. Either pass `include_groups=False` to exclude the groupings or explicitly select the grouping columns after groupby to silence this warning.\n",
      "  result = df.groupby('Platform').apply(lambda x: x.sort_values('Follower Count', ascending = False).head(3)['Follower Count']).reset_index()\n"
     ]
    }
   ],
   "source": [
    "result = df.groupby('Platform').apply(lambda x: x.sort_values('Follower Count', ascending = False).head(3)['Follower Count']).reset_index()"
   ]
  },
  {
   "cell_type": "code",
   "execution_count": 20,
   "id": "9e4bba98-7ee4-46c4-b52f-99d2e39e618f",
   "metadata": {},
   "outputs": [],
   "source": [
    "result = result.rename(columns = {'level_1' : 'id'})"
   ]
  },
  {
   "cell_type": "code",
   "execution_count": 21,
   "id": "a21006f5-1c10-4bec-9f20-d4db85fefaa7",
   "metadata": {},
   "outputs": [
    {
     "data": {
      "text/html": [
       "<div>\n",
       "<style scoped>\n",
       "    .dataframe tbody tr th:only-of-type {\n",
       "        vertical-align: middle;\n",
       "    }\n",
       "\n",
       "    .dataframe tbody tr th {\n",
       "        vertical-align: top;\n",
       "    }\n",
       "\n",
       "    .dataframe thead th {\n",
       "        text-align: right;\n",
       "    }\n",
       "</style>\n",
       "<table border=\"1\" class=\"dataframe\">\n",
       "  <thead>\n",
       "    <tr style=\"text-align: right;\">\n",
       "      <th></th>\n",
       "      <th>Platform</th>\n",
       "      <th>id</th>\n",
       "      <th>Follower Count</th>\n",
       "    </tr>\n",
       "  </thead>\n",
       "  <tbody>\n",
       "    <tr>\n",
       "      <th>2</th>\n",
       "      <td>Facebook</td>\n",
       "      <td>1689</td>\n",
       "      <td>997512</td>\n",
       "    </tr>\n",
       "  </tbody>\n",
       "</table>\n",
       "</div>"
      ],
      "text/plain": [
       "   Platform    id  Follower Count\n",
       "2  Facebook  1689          997512"
      ]
     },
     "execution_count": 21,
     "metadata": {},
     "output_type": "execute_result"
    }
   ],
   "source": [
    "result[result['Follower Count'] == result['Follower Count'].min()]"
   ]
  },
  {
   "cell_type": "markdown",
   "id": "10013af5-e0d2-4f10-8a35-b4246ee1b12e",
   "metadata": {},
   "source": [
    "The answer is 997512"
   ]
  },
  {
   "cell_type": "markdown",
   "id": "e5b8854f-fda7-4803-ac5a-7e17df0840b7",
   "metadata": {},
   "source": [
    "### Task 5"
   ]
  },
  {
   "cell_type": "code",
   "execution_count": 22,
   "id": "62de309d-fd8c-45a2-8078-4a6e235d7f93",
   "metadata": {},
   "outputs": [
    {
     "data": {
      "text/html": [
       "<div>\n",
       "<style scoped>\n",
       "    .dataframe tbody tr th:only-of-type {\n",
       "        vertical-align: middle;\n",
       "    }\n",
       "\n",
       "    .dataframe tbody tr th {\n",
       "        vertical-align: top;\n",
       "    }\n",
       "\n",
       "    .dataframe thead th {\n",
       "        text-align: right;\n",
       "    }\n",
       "</style>\n",
       "<table border=\"1\" class=\"dataframe\">\n",
       "  <thead>\n",
       "    <tr style=\"text-align: right;\">\n",
       "      <th></th>\n",
       "      <th>Account ID</th>\n",
       "      <th>Username</th>\n",
       "      <th>Platform</th>\n",
       "      <th>Follower Count</th>\n",
       "      <th>Posts Per Week</th>\n",
       "      <th>Engagement Rate</th>\n",
       "      <th>Ad Spend (USD)</th>\n",
       "      <th>Conversion Rate</th>\n",
       "      <th>Campaign Reach</th>\n",
       "      <th>Platform_Code</th>\n",
       "      <th>Follower_Bin</th>\n",
       "    </tr>\n",
       "  </thead>\n",
       "  <tbody>\n",
       "    <tr>\n",
       "      <th>0</th>\n",
       "      <td>1</td>\n",
       "      <td>harrislisa</td>\n",
       "      <td>TikTok</td>\n",
       "      <td>54217</td>\n",
       "      <td>3</td>\n",
       "      <td>0.0986</td>\n",
       "      <td>538.10</td>\n",
       "      <td>0.0490</td>\n",
       "      <td>1308</td>\n",
       "      <td>0</td>\n",
       "      <td>Low</td>\n",
       "    </tr>\n",
       "    <tr>\n",
       "      <th>1</th>\n",
       "      <td>2</td>\n",
       "      <td>rhicks</td>\n",
       "      <td>LinkedIn</td>\n",
       "      <td>987518</td>\n",
       "      <td>5</td>\n",
       "      <td>0.0834</td>\n",
       "      <td>479.24</td>\n",
       "      <td>0.0174</td>\n",
       "      <td>13302</td>\n",
       "      <td>1</td>\n",
       "      <td>Very High</td>\n",
       "    </tr>\n",
       "  </tbody>\n",
       "</table>\n",
       "</div>"
      ],
      "text/plain": [
       "   Account ID    Username  Platform  Follower Count  Posts Per Week  \\\n",
       "0           1  harrislisa    TikTok           54217               3   \n",
       "1           2      rhicks  LinkedIn          987518               5   \n",
       "\n",
       "   Engagement Rate  Ad Spend (USD)  Conversion Rate  Campaign Reach  \\\n",
       "0           0.0986          538.10           0.0490            1308   \n",
       "1           0.0834          479.24           0.0174           13302   \n",
       "\n",
       "   Platform_Code Follower_Bin  \n",
       "0              0          Low  \n",
       "1              1    Very High  "
      ]
     },
     "execution_count": 22,
     "metadata": {},
     "output_type": "execute_result"
    }
   ],
   "source": [
    "df.head(2)"
   ]
  },
  {
   "cell_type": "code",
   "execution_count": 23,
   "id": "c41817e5-038f-4870-80fa-ab96754e61f7",
   "metadata": {},
   "outputs": [],
   "source": [
    "df['Conversion_Category'] = df['Conversion Rate'].apply(lambda x: 'Low' if x <= df['Conversion Rate'].median() else 'High')"
   ]
  },
  {
   "cell_type": "code",
   "execution_count": 24,
   "id": "bc5e2a1c-e59a-4233-96f2-133b8b0e84a3",
   "metadata": {},
   "outputs": [],
   "source": [
    "pivot = df.pivot_table(index='Platform', columns='Conversion_Category', values=['Follower Count','Campaign Reach'], aggfunc='sum')"
   ]
  },
  {
   "cell_type": "code",
   "execution_count": 25,
   "id": "b0f082de-39f5-4716-9acd-6efc6a130c9a",
   "metadata": {},
   "outputs": [
    {
     "data": {
      "text/html": [
       "<div>\n",
       "<style scoped>\n",
       "    .dataframe tbody tr th:only-of-type {\n",
       "        vertical-align: middle;\n",
       "    }\n",
       "\n",
       "    .dataframe tbody tr th {\n",
       "        vertical-align: top;\n",
       "    }\n",
       "\n",
       "    .dataframe thead tr th {\n",
       "        text-align: left;\n",
       "    }\n",
       "\n",
       "    .dataframe thead tr:last-of-type th {\n",
       "        text-align: right;\n",
       "    }\n",
       "</style>\n",
       "<table border=\"1\" class=\"dataframe\">\n",
       "  <thead>\n",
       "    <tr>\n",
       "      <th></th>\n",
       "      <th colspan=\"2\" halign=\"left\">Campaign Reach</th>\n",
       "      <th colspan=\"2\" halign=\"left\">Follower Count</th>\n",
       "    </tr>\n",
       "    <tr>\n",
       "      <th>Conversion_Category</th>\n",
       "      <th>High</th>\n",
       "      <th>Low</th>\n",
       "      <th>High</th>\n",
       "      <th>Low</th>\n",
       "    </tr>\n",
       "    <tr>\n",
       "      <th>Platform</th>\n",
       "      <th></th>\n",
       "      <th></th>\n",
       "      <th></th>\n",
       "      <th></th>\n",
       "    </tr>\n",
       "  </thead>\n",
       "  <tbody>\n",
       "    <tr>\n",
       "      <th>Facebook</th>\n",
       "      <td>26096572</td>\n",
       "      <td>25635749</td>\n",
       "      <td>512439819</td>\n",
       "      <td>499712373</td>\n",
       "    </tr>\n",
       "    <tr>\n",
       "      <th>Instagram</th>\n",
       "      <td>24250993</td>\n",
       "      <td>26482804</td>\n",
       "      <td>487970573</td>\n",
       "      <td>524726855</td>\n",
       "    </tr>\n",
       "    <tr>\n",
       "      <th>LinkedIn</th>\n",
       "      <td>25186827</td>\n",
       "      <td>25147594</td>\n",
       "      <td>509450797</td>\n",
       "      <td>499766430</td>\n",
       "    </tr>\n",
       "    <tr>\n",
       "      <th>TikTok</th>\n",
       "      <td>24253556</td>\n",
       "      <td>25091283</td>\n",
       "      <td>495899696</td>\n",
       "      <td>491110679</td>\n",
       "    </tr>\n",
       "    <tr>\n",
       "      <th>Twitter</th>\n",
       "      <td>26376400</td>\n",
       "      <td>24566705</td>\n",
       "      <td>536955379</td>\n",
       "      <td>481382949</td>\n",
       "    </tr>\n",
       "  </tbody>\n",
       "</table>\n",
       "</div>"
      ],
      "text/plain": [
       "                    Campaign Reach           Follower Count           \n",
       "Conversion_Category           High       Low           High        Low\n",
       "Platform                                                              \n",
       "Facebook                  26096572  25635749      512439819  499712373\n",
       "Instagram                 24250993  26482804      487970573  524726855\n",
       "LinkedIn                  25186827  25147594      509450797  499766430\n",
       "TikTok                    24253556  25091283      495899696  491110679\n",
       "Twitter                   26376400  24566705      536955379  481382949"
      ]
     },
     "execution_count": 25,
     "metadata": {},
     "output_type": "execute_result"
    }
   ],
   "source": [
    "pivot"
   ]
  },
  {
   "cell_type": "code",
   "execution_count": 26,
   "id": "3f794e0c-36cc-4ff8-9b12-0cde7c7edd41",
   "metadata": {},
   "outputs": [
    {
     "data": {
      "text/plain": [
       "Platform\n",
       "Facebook     0.246025\n",
       "Instagram   -0.724493\n",
       "LinkedIn     0.192400\n",
       "TikTok       0.097052\n",
       "Twitter      1.090872\n",
       "dtype: float64"
      ]
     },
     "execution_count": 26,
     "metadata": {},
     "output_type": "execute_result"
    }
   ],
   "source": [
    "f_high = pivot[('Follower Count','High')]\n",
    "f_low  = pivot[('Follower Count','Low')]\n",
    "r_high = pivot[('Campaign Reach','High')]\n",
    "r_low  = pivot[('Campaign Reach','Low')]\n",
    "metric = (f_high - f_low) / (r_high + r_low)\n",
    "metric"
   ]
  },
  {
   "cell_type": "markdown",
   "id": "b848206d-1dce-400f-b7f8-00070d840ca7",
   "metadata": {},
   "source": [
    "Answer : Twitter "
   ]
  },
  {
   "cell_type": "markdown",
   "id": "6e7c4464-32d7-441a-b68a-93830c01734c",
   "metadata": {},
   "source": [
    "### Task 6"
   ]
  },
  {
   "cell_type": "code",
   "execution_count": 27,
   "id": "0cab0879-3b87-4672-95ee-c4890ac6c85d",
   "metadata": {},
   "outputs": [
    {
     "data": {
      "text/html": [
       "<div>\n",
       "<style scoped>\n",
       "    .dataframe tbody tr th:only-of-type {\n",
       "        vertical-align: middle;\n",
       "    }\n",
       "\n",
       "    .dataframe tbody tr th {\n",
       "        vertical-align: top;\n",
       "    }\n",
       "\n",
       "    .dataframe thead th {\n",
       "        text-align: right;\n",
       "    }\n",
       "</style>\n",
       "<table border=\"1\" class=\"dataframe\">\n",
       "  <thead>\n",
       "    <tr style=\"text-align: right;\">\n",
       "      <th></th>\n",
       "      <th>Account ID</th>\n",
       "      <th>Username</th>\n",
       "      <th>Platform</th>\n",
       "      <th>Follower Count</th>\n",
       "      <th>Posts Per Week</th>\n",
       "      <th>Engagement Rate</th>\n",
       "      <th>Ad Spend (USD)</th>\n",
       "      <th>Conversion Rate</th>\n",
       "      <th>Campaign Reach</th>\n",
       "      <th>Platform_Code</th>\n",
       "      <th>Follower_Bin</th>\n",
       "      <th>Conversion_Category</th>\n",
       "    </tr>\n",
       "  </thead>\n",
       "  <tbody>\n",
       "    <tr>\n",
       "      <th>25</th>\n",
       "      <td>26</td>\n",
       "      <td>brian06</td>\n",
       "      <td>Facebook</td>\n",
       "      <td>480900</td>\n",
       "      <td>7</td>\n",
       "      <td>0.0986</td>\n",
       "      <td>357.45</td>\n",
       "      <td>0.0412</td>\n",
       "      <td>49640</td>\n",
       "      <td>2</td>\n",
       "      <td>Medium</td>\n",
       "      <td>High</td>\n",
       "    </tr>\n",
       "    <tr>\n",
       "      <th>57</th>\n",
       "      <td>58</td>\n",
       "      <td>julianfisher</td>\n",
       "      <td>Facebook</td>\n",
       "      <td>224019</td>\n",
       "      <td>7</td>\n",
       "      <td>0.0642</td>\n",
       "      <td>519.52</td>\n",
       "      <td>0.0115</td>\n",
       "      <td>15713</td>\n",
       "      <td>2</td>\n",
       "      <td>Low</td>\n",
       "      <td>Low</td>\n",
       "    </tr>\n",
       "    <tr>\n",
       "      <th>71</th>\n",
       "      <td>72</td>\n",
       "      <td>toneill</td>\n",
       "      <td>Facebook</td>\n",
       "      <td>644118</td>\n",
       "      <td>7</td>\n",
       "      <td>0.0642</td>\n",
       "      <td>382.74</td>\n",
       "      <td>0.0307</td>\n",
       "      <td>9407</td>\n",
       "      <td>2</td>\n",
       "      <td>High</td>\n",
       "      <td>High</td>\n",
       "    </tr>\n",
       "    <tr>\n",
       "      <th>76</th>\n",
       "      <td>77</td>\n",
       "      <td>carlosrivera</td>\n",
       "      <td>Facebook</td>\n",
       "      <td>13228</td>\n",
       "      <td>7</td>\n",
       "      <td>0.0986</td>\n",
       "      <td>728.88</td>\n",
       "      <td>0.0460</td>\n",
       "      <td>42386</td>\n",
       "      <td>2</td>\n",
       "      <td>Low</td>\n",
       "      <td>High</td>\n",
       "    </tr>\n",
       "    <tr>\n",
       "      <th>115</th>\n",
       "      <td>116</td>\n",
       "      <td>fduffy</td>\n",
       "      <td>Facebook</td>\n",
       "      <td>758261</td>\n",
       "      <td>7</td>\n",
       "      <td>0.0856</td>\n",
       "      <td>189.36</td>\n",
       "      <td>0.0186</td>\n",
       "      <td>25804</td>\n",
       "      <td>2</td>\n",
       "      <td>Very High</td>\n",
       "      <td>Low</td>\n",
       "    </tr>\n",
       "  </tbody>\n",
       "</table>\n",
       "</div>"
      ],
      "text/plain": [
       "     Account ID      Username  Platform  Follower Count  Posts Per Week  \\\n",
       "25           26       brian06  Facebook          480900               7   \n",
       "57           58  julianfisher  Facebook          224019               7   \n",
       "71           72       toneill  Facebook          644118               7   \n",
       "76           77  carlosrivera  Facebook           13228               7   \n",
       "115         116        fduffy  Facebook          758261               7   \n",
       "\n",
       "     Engagement Rate  Ad Spend (USD)  Conversion Rate  Campaign Reach  \\\n",
       "25            0.0986          357.45           0.0412           49640   \n",
       "57            0.0642          519.52           0.0115           15713   \n",
       "71            0.0642          382.74           0.0307            9407   \n",
       "76            0.0986          728.88           0.0460           42386   \n",
       "115           0.0856          189.36           0.0186           25804   \n",
       "\n",
       "     Platform_Code Follower_Bin Conversion_Category  \n",
       "25               2       Medium                High  \n",
       "57               2          Low                 Low  \n",
       "71               2         High                High  \n",
       "76               2          Low                High  \n",
       "115              2    Very High                 Low  "
      ]
     },
     "execution_count": 27,
     "metadata": {},
     "output_type": "execute_result"
    }
   ],
   "source": [
    "data = df.sort_values(['Platform','Posts Per Week'], ascending = [True, False])\n",
    "data.head()"
   ]
  },
  {
   "cell_type": "code",
   "execution_count": 28,
   "id": "8a808689-025a-493e-812e-ba7cf500eeab",
   "metadata": {},
   "outputs": [],
   "source": [
    "data['RCRS'] = data['Campaign Reach'].rolling(window=3).sum()\n",
    "data['ASRS'] = data['Ad Spend (USD)'].rolling(window=3).sum()"
   ]
  },
  {
   "cell_type": "code",
   "execution_count": 29,
   "id": "b8cbcf2b-346b-40e0-9a47-2e30063fec3a",
   "metadata": {},
   "outputs": [
    {
     "data": {
      "text/html": [
       "<div>\n",
       "<style scoped>\n",
       "    .dataframe tbody tr th:only-of-type {\n",
       "        vertical-align: middle;\n",
       "    }\n",
       "\n",
       "    .dataframe tbody tr th {\n",
       "        vertical-align: top;\n",
       "    }\n",
       "\n",
       "    .dataframe thead th {\n",
       "        text-align: right;\n",
       "    }\n",
       "</style>\n",
       "<table border=\"1\" class=\"dataframe\">\n",
       "  <thead>\n",
       "    <tr style=\"text-align: right;\">\n",
       "      <th></th>\n",
       "      <th>Account ID</th>\n",
       "      <th>Username</th>\n",
       "      <th>Platform</th>\n",
       "      <th>Follower Count</th>\n",
       "      <th>Posts Per Week</th>\n",
       "      <th>Engagement Rate</th>\n",
       "      <th>Ad Spend (USD)</th>\n",
       "      <th>Conversion Rate</th>\n",
       "      <th>Campaign Reach</th>\n",
       "      <th>Platform_Code</th>\n",
       "      <th>Follower_Bin</th>\n",
       "      <th>Conversion_Category</th>\n",
       "      <th>RCRS</th>\n",
       "      <th>ASRS</th>\n",
       "    </tr>\n",
       "  </thead>\n",
       "  <tbody>\n",
       "    <tr>\n",
       "      <th>25</th>\n",
       "      <td>26</td>\n",
       "      <td>brian06</td>\n",
       "      <td>Facebook</td>\n",
       "      <td>480900</td>\n",
       "      <td>7</td>\n",
       "      <td>0.0986</td>\n",
       "      <td>357.45</td>\n",
       "      <td>0.0412</td>\n",
       "      <td>49640</td>\n",
       "      <td>2</td>\n",
       "      <td>Medium</td>\n",
       "      <td>High</td>\n",
       "      <td>NaN</td>\n",
       "      <td>NaN</td>\n",
       "    </tr>\n",
       "    <tr>\n",
       "      <th>57</th>\n",
       "      <td>58</td>\n",
       "      <td>julianfisher</td>\n",
       "      <td>Facebook</td>\n",
       "      <td>224019</td>\n",
       "      <td>7</td>\n",
       "      <td>0.0642</td>\n",
       "      <td>519.52</td>\n",
       "      <td>0.0115</td>\n",
       "      <td>15713</td>\n",
       "      <td>2</td>\n",
       "      <td>Low</td>\n",
       "      <td>Low</td>\n",
       "      <td>NaN</td>\n",
       "      <td>NaN</td>\n",
       "    </tr>\n",
       "  </tbody>\n",
       "</table>\n",
       "</div>"
      ],
      "text/plain": [
       "    Account ID      Username  Platform  Follower Count  Posts Per Week  \\\n",
       "25          26       brian06  Facebook          480900               7   \n",
       "57          58  julianfisher  Facebook          224019               7   \n",
       "\n",
       "    Engagement Rate  Ad Spend (USD)  Conversion Rate  Campaign Reach  \\\n",
       "25           0.0986          357.45           0.0412           49640   \n",
       "57           0.0642          519.52           0.0115           15713   \n",
       "\n",
       "    Platform_Code Follower_Bin Conversion_Category  RCRS  ASRS  \n",
       "25              2       Medium                High   NaN   NaN  \n",
       "57              2          Low                 Low   NaN   NaN  "
      ]
     },
     "execution_count": 29,
     "metadata": {},
     "output_type": "execute_result"
    }
   ],
   "source": [
    "data.head(2)"
   ]
  },
  {
   "cell_type": "code",
   "execution_count": 30,
   "id": "8fe7a58d-cb1f-4293-b92e-660e7ec60d87",
   "metadata": {},
   "outputs": [],
   "source": [
    "data['metric'] = data['RCRS'] / data['ASRS']"
   ]
  },
  {
   "cell_type": "code",
   "execution_count": 31,
   "id": "0dfe5fb2-842a-41ef-865c-d3fbe7bcbd9d",
   "metadata": {},
   "outputs": [
    {
     "data": {
      "text/plain": [
       "Platform\n",
       "Facebook     388.513469\n",
       "Instagram    371.822908\n",
       "LinkedIn     261.489362\n",
       "TikTok       259.209914\n",
       "Twitter      341.152664\n",
       "Name: metric, dtype: float64"
      ]
     },
     "execution_count": 31,
     "metadata": {},
     "output_type": "execute_result"
    }
   ],
   "source": [
    "data.groupby('Platform')['metric'].max()"
   ]
  },
  {
   "cell_type": "markdown",
   "id": "973df5e3-5817-4984-815e-4d860e8b970f",
   "metadata": {},
   "source": [
    "Highest: Facebook··  \n",
    "Lowest: TikTok"
   ]
  },
  {
   "cell_type": "markdown",
   "id": "4c5fc673-f5d7-4291-96cc-741988ae2c4e",
   "metadata": {},
   "source": [
    "### Task 7"
   ]
  },
  {
   "cell_type": "code",
   "execution_count": 32,
   "id": "6594c527-c59b-45a6-8806-d0ff7a355a57",
   "metadata": {},
   "outputs": [],
   "source": [
    "top_eng = df.loc[df.groupby('Platform')['Engagement Rate'].idxmax(),['Account ID','Platform','Username']].reset_index()\n",
    "top_conv = df.loc[df.groupby('Platform')['Conversion Rate'].idxmax(),['Account ID','Platform','Username']].reset_index()"
   ]
  },
  {
   "cell_type": "code",
   "execution_count": 33,
   "id": "765ba727-5815-40f8-b921-93ea9bfc3784",
   "metadata": {},
   "outputs": [],
   "source": [
    "result = top_eng.merge(top_conv, how = 'left', left_on = 'Platform', right_on = 'Platform')"
   ]
  },
  {
   "cell_type": "code",
   "execution_count": 34,
   "id": "db6c576d-6f9e-466a-a5ba-5da070969a40",
   "metadata": {},
   "outputs": [
    {
     "data": {
      "text/plain": [
       "0"
      ]
     },
     "execution_count": 34,
     "metadata": {},
     "output_type": "execute_result"
    }
   ],
   "source": [
    "(result['Account ID_x'] == result['Account ID_y']).sum()"
   ]
  },
  {
   "cell_type": "markdown",
   "id": "cba58166-f081-49ec-92a5-0632fe9b5d04",
   "metadata": {},
   "source": [
    "Answer : 0"
   ]
  },
  {
   "cell_type": "markdown",
   "id": "094b73fd-fbec-4044-b87a-dee40e472ec2",
   "metadata": {},
   "source": [
    "### Task 8"
   ]
  },
  {
   "cell_type": "code",
   "execution_count": 35,
   "id": "0e6da0b0-bf6f-4549-8724-00d0ebf57244",
   "metadata": {},
   "outputs": [
    {
     "name": "stdout",
     "output_type": "stream",
     "text": [
      "1    Instagram\n",
      "Name: Platform, dtype: object\n",
      "4    Twitter\n",
      "Name: Platform, dtype: object\n",
      "0.17688741338715763\n",
      "CPU times: user 283 ms, sys: 5.34 ms, total: 288 ms\n",
      "Wall time: 287 ms\n"
     ]
    },
    {
     "name": "stderr",
     "output_type": "stream",
     "text": [
      "<timed exec>:2: DeprecationWarning: DataFrameGroupBy.apply operated on the grouping columns. This behavior is deprecated, and in a future version of pandas the grouping columns will be excluded from the operation. Either pass `include_groups=False` to exclude the groupings or explicitly select the grouping columns after groupby to silence this warning.\n"
     ]
    }
   ],
   "source": [
    "%%time\n",
    "df['CR_type'] = df['Conversion Rate'].apply(lambda x: 'High' if x > df['Conversion Rate'].mean() else 'Low')\n",
    "result = (df.groupby('Platform').apply(lambda x: x.loc[x['CR_type']=='High', 'Follower Count'].sum()/x.loc[x['CR_type']=='Low' , 'Follower Count'].sum()).reset_index())\n",
    "result = result.rename(columns = {0 : 'd'})\n",
    "print(result.loc[result['d'] == result['d'].min(), 'Platform'])\n",
    "print(result.loc[result['d'] == result['d'].max(), 'Platform'])\n",
    "print(result['d'].max() - result['d'].min())"
   ]
  },
  {
   "cell_type": "markdown",
   "id": "9cc7ce84-c145-4785-8a39-f9df70d681e6",
   "metadata": {},
   "source": [
    "The Answers is     \n",
    "Twitter : max     \n",
    "Facebook : low   \n",
    "Difference : 0.17688741338715763"
   ]
  },
  {
   "cell_type": "markdown",
   "id": "743642e1-f75a-47a8-b351-0166161be520",
   "metadata": {},
   "source": [
    "### Task 9"
   ]
  },
  {
   "cell_type": "code",
   "execution_count": 36,
   "id": "c5c9edf8-707e-44f2-8bed-5410b89146df",
   "metadata": {},
   "outputs": [
    {
     "name": "stdout",
     "output_type": "stream",
     "text": [
      "{'Facebook', 'TikTok', 'Instagram', 'Twitter', 'LinkedIn'}\n",
      "0.17688741338715763\n",
      "Twitter\n",
      "Instagram\n",
      "CPU times: user 30 ms, sys: 4.78 ms, total: 34.7 ms\n",
      "Wall time: 32 ms\n"
     ]
    }
   ],
   "source": [
    "%%time\n",
    "dftest = df\n",
    "dftest = df.values.tolist()\n",
    "values = [i[7] for i in dftest]\n",
    "mn = sum(values) / len(values)\n",
    "\n",
    "for i in range(len(dftest)) : \n",
    "    if dftest[i][7] > mn : \n",
    "        dftest[i].append(1)\n",
    "    else : \n",
    "        dftest[i].append(0)\n",
    "\n",
    "\n",
    "\n",
    "for i in range(len(dftest)) : \n",
    "    if dftest[i][7] > mn : \n",
    "        dftest[i].append(1)\n",
    "    else : \n",
    "        dftest[i].append(0)\n",
    "\n",
    "\n",
    "\n",
    "\n",
    "data = set()\n",
    "for i in dftest : \n",
    "    data.add(i[2])\n",
    "print(data)\n",
    "\n",
    "\n",
    "data = list(data)\n",
    "\n",
    "\n",
    "\n",
    "hsh = {0: {}, 1: {}}\n",
    "\n",
    "for row in dftest:\n",
    "    key = row[-1]\n",
    "    platform = row[2]\n",
    "    followers = row[3]\n",
    "    hsh[key][platform] = hsh[key].get(platform, 0) + followers\n",
    "\n",
    "\n",
    "\n",
    "dr = []\n",
    "\n",
    "\n",
    "for i in range(len(data)) : \n",
    "    dr.append([data[i], hsh[1][data[i]] / hsh[0][data[i]]])\n",
    "\n",
    "\n",
    "\n",
    "\n",
    "mx, compx = 0, ''\n",
    "mn, compm = 1000000, ''\n",
    "\n",
    "for i in dr : \n",
    "    if i[1] > mx : \n",
    "        mx, compx = i[1], i[0]\n",
    "    elif i[1] < mn : \n",
    "        mn, compm = i[1], i[0]\n",
    "\n",
    "\n",
    "\n",
    "\n",
    "print(mx - mn)\n",
    "print(compx)\n",
    "print(compm)"
   ]
  },
  {
   "cell_type": "markdown",
   "id": "a8d1afbd-09eb-4e28-97c2-6b2269498562",
   "metadata": {},
   "source": [
    "python is faster "
   ]
  },
  {
   "cell_type": "markdown",
   "id": "5b09ce9f-a1ee-4f15-9369-3441c9c90e6f",
   "metadata": {},
   "source": [
    "### Task 10"
   ]
  }
 ],
 "metadata": {
  "kernelspec": {
   "display_name": "Python 3 (ipykernel)",
   "language": "python",
   "name": "python3"
  },
  "language_info": {
   "codemirror_mode": {
    "name": "ipython",
    "version": 3
   },
   "file_extension": ".py",
   "mimetype": "text/x-python",
   "name": "python",
   "nbconvert_exporter": "python",
   "pygments_lexer": "ipython3",
   "version": "3.9.12"
  }
 },
 "nbformat": 4,
 "nbformat_minor": 5
}
